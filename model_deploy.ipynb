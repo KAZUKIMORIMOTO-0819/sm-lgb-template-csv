{
 "cells": [
  {
   "cell_type": "markdown",
   "id": "f13e86b7-19c7-4158-910b-11181c5ecff5",
   "metadata": {},
   "source": [
    "# モジュールインポート"
   ]
  },
  {
   "cell_type": "code",
   "execution_count": 1,
   "id": "45f84e12-a449-4496-abd2-9661fcef0872",
   "metadata": {},
   "outputs": [
    {
     "name": "stdout",
     "output_type": "stream",
     "text": [
      "sagemaker.config INFO - Not applying SDK defaults from location: /etc/xdg/sagemaker/config.yaml\n",
      "sagemaker.config INFO - Not applying SDK defaults from location: /home/sagemaker-user/.config/sagemaker/config.yaml\n"
     ]
    },
    {
     "name": "stderr",
     "output_type": "stream",
     "text": [
      "/opt/conda/lib/python3.10/site-packages/dask/dataframe/__init__.py:42: FutureWarning: \n",
      "Dask dataframe query planning is disabled because dask-expr is not installed.\n",
      "\n",
      "You can install it with `pip install dask[dataframe]` or `conda install dask`.\n",
      "This will raise in a future version.\n",
      "\n",
      "  warnings.warn(msg, FutureWarning)\n"
     ]
    }
   ],
   "source": [
    "# SageMaker関連のモジュール\n",
    "import sagemaker\n",
    "from sagemaker.session import Session  # SageMakerセッションの生成\n",
    "from sagemaker.sklearn import SKLearnModel  # Scikit-learnモデル用のモジュール\n",
    "from sagemaker.async_inference import AsyncInferenceConfig  # 非同期推論設定\n",
    "from sagemaker.workflow.pipeline import Pipeline  # SageMaker Pipelineの設定\n",
    "from sagemaker.workflow.steps import ProcessingStep, TrainingStep  # パイプラインのステップ\n",
    "from sagemaker.processing import ScriptProcessor  # スクリプトプロセッサ\n",
    "from sagemaker.sklearn.processing import SKLearnProcessor  # Scikit-learn用のプロセッサ\n",
    "from sagemaker.workflow.pipeline_context import PipelineSession  # パイプラインセッション\n",
    "from sagemaker.inputs import TrainingInput  # トレーニングデータの入力\n",
    "from sagemaker.workflow.step_collections import RegisterModel  # モデル登録\n",
    "from sagemaker.model_metrics import MetricsSource, ModelMetrics  # モデルメトリクス\n",
    "from sagemaker.workflow.parameters import ParameterString  # パイプラインパラメータ\n",
    "from sagemaker.workflow.functions import Join  # ステップ間でのパス結合\n",
    "from sagemaker.model import Model\n",
    "from sagemaker import get_execution_role\n",
    "from sagemaker.image_uris import retrieve\n",
    "from sagemaker.predictor import Predictor\n",
    "from sagemaker.serializers import JSONSerializer, CSVSerializer\n",
    "from sagemaker.deserializers import JSONDeserializer, CSVDeserializer\n",
    "from sagemaker.local import LocalSession\n",
    "\n",
    "# 必要な標準ライブラリ\n",
    "import os  # OS操作\n",
    "import json  # JSON操作\n",
    "import logging  # ロギング設定\n",
    "from io import BytesIO  # バイトストリーム\n",
    "from time import sleep  # 一時停止処理\n",
    "from uuid import uuid4  # UUID生成\n",
    "from typing import Final  # 定数宣言用\n",
    "import tarfile\n",
    "import importlib\n",
    "\n",
    "# AWS関連モジュール\n",
    "import boto3  # AWS SDK for Python\n",
    "\n",
    "# データ分析・機械学習関連\n",
    "import numpy as np  # 数値計算ライブラリ\n",
    "import pandas as pd  # データ処理・分析\n",
    "import lightgbm as lgb  # LightGBMモデル\n",
    "from sklearn.model_selection import train_test_split  # データ分割\n",
    "from sklearn.datasets import make_classification  # サンプルデータ生成\n",
    "\n",
    "# ログの設定\n",
    "logging.basicConfig(level=logging.INFO)\n",
    "logger = logging.getLogger(__name__)\n",
    "\n",
    "# コメント:\n",
    "# - 不要な重複を排除し、モジュールを適切にまとめました。\n",
    "# - import文をカテゴリーごとに整理することで、可読性を向上させています。\n",
    "# - ロギング設定を追加し、loggerインスタンスを準備済み。"
   ]
  },
  {
   "cell_type": "markdown",
   "id": "101db14c-7466-4226-afd1-98edb205c465",
   "metadata": {},
   "source": [
    "# 事前設定\n",
    "- モデル構築前の事前準備を行う。\n",
    "    - Sagemakerの各種設定\n",
    "    - 必要ディレクトリの作成\n",
    "    - サンプルデータの作成\n",
    "      - S3にアップロード"
   ]
  },
  {
   "cell_type": "markdown",
   "id": "9346c820-fcf1-4cba-a414-6b9537c3c84a",
   "metadata": {},
   "source": [
    "## Sagemaker各種設定"
   ]
  },
  {
   "cell_type": "code",
   "execution_count": 2,
   "id": "22d43418-7daf-48f4-9861-b983bf72887a",
   "metadata": {},
   "outputs": [
    {
     "name": "stderr",
     "output_type": "stream",
     "text": [
      "INFO:__main__:Initialized SageMaker settings with role=arn:aws:iam::706711397653:role/service-role/AmazonSageMaker-ExecutionRole-20240825T162290, region=ap-northeast-1, bucket=sagemaker-ap-northeast-1-706711397653, s3_prefix=lightgbm-model-deploy_csv_ver\n"
     ]
    }
   ],
   "source": [
    "def initialize_sagemaker_settings():\n",
    "    \"\"\"\n",
    "    SageMakerとAWSの事前設定を行う関数\n",
    "\n",
    "    :return: 設定情報を含む辞書\n",
    "    \"\"\"\n",
    "    # SageMakerクライアントとセッションの初期化\n",
    "    smr_client: Final = boto3.client('sagemaker-runtime')\n",
    "    sm_client: Final = boto3.client('sagemaker')\n",
    "    s3_client: Final = boto3.client('s3')\n",
    "    session = sagemaker.Session()\n",
    "\n",
    "    # エンドポイントの状態を確認するためのウェイター設定\n",
    "    endpoint_inservice_waiter: Final = sm_client.get_waiter('endpoint_in_service')\n",
    "\n",
    "    # SageMakerの実行ロールとリージョンの取得\n",
    "    role: Final[str] = sagemaker.get_execution_role()\n",
    "    region: Final[str] = session.boto_region_name\n",
    "\n",
    "    # デフォルトのS3バケットとプレフィックスの設定\n",
    "    bucket: Final[str] = session.default_bucket()\n",
    "    s3_prefix = 'lightgbm-model-deploy_csv_ver'\n",
    "\n",
    "    # 設定情報のロギング\n",
    "    logger.info(f\"Initialized SageMaker settings with role={role}, region={region}, bucket={bucket}, s3_prefix={s3_prefix}\")\n",
    "\n",
    "    return {\n",
    "        \"smr_client\": smr_client,\n",
    "        \"sm_client\": sm_client,\n",
    "        \"s3_client\": s3_client,\n",
    "        \"endpoint_inservice_waiter\": endpoint_inservice_waiter,\n",
    "        \"role\": role,\n",
    "        \"region\": region,\n",
    "        \"bucket\": bucket,\n",
    "        \"session\": session,\n",
    "        \"s3_prefix\": s3_prefix\n",
    "    }\n",
    "\n",
    "# 設定の初期化\n",
    "sagemaker_settings = initialize_sagemaker_settings()"
   ]
  },
  {
   "cell_type": "code",
   "execution_count": 3,
   "id": "758dd226-1cdd-4e01-ade9-3a0da25ba885",
   "metadata": {},
   "outputs": [
    {
     "data": {
      "text/plain": [
       "{'smr_client': <botocore.client.SageMakerRuntime at 0x7fc7e1d15330>,\n",
       " 'sm_client': <botocore.client.SageMaker at 0x7fc7dff3ca60>,\n",
       " 's3_client': <botocore.client.S3 at 0x7fc7dfc63d60>,\n",
       " 'endpoint_inservice_waiter': <botocore.waiter.SageMaker.Waiter.EndpointInService at 0x7fc7dfa8dff0>,\n",
       " 'role': 'arn:aws:iam::706711397653:role/service-role/AmazonSageMaker-ExecutionRole-20240825T162290',\n",
       " 'region': 'ap-northeast-1',\n",
       " 'bucket': 'sagemaker-ap-northeast-1-706711397653',\n",
       " 'session': <sagemaker.session.Session at 0x7fc7dfc63d30>,\n",
       " 's3_prefix': 'lightgbm-model-deploy_csv_ver'}"
      ]
     },
     "execution_count": 3,
     "metadata": {},
     "output_type": "execute_result"
    }
   ],
   "source": [
    "sagemaker_settings"
   ]
  },
  {
   "cell_type": "markdown",
   "id": "f159e6c8-fa0f-4065-a57c-e2a6d6493c80",
   "metadata": {},
   "source": [
    "## ディレクトリ設定"
   ]
  },
  {
   "cell_type": "code",
   "execution_count": 4,
   "id": "0f9243c0-a8e8-420b-8a23-3254d690e56e",
   "metadata": {},
   "outputs": [],
   "source": [
    "def create_directory(directory_path: str):\n",
    "    \"\"\"\n",
    "    指定されたディレクトリを作成する関数。\n",
    "    既に存在する場合は削除して新しく作成します。\n",
    "\n",
    "    :param directory_path: 作成するディレクトリのパス\n",
    "    \"\"\"\n",
    "    # 既存ディレクトリの削除\n",
    "    if os.path.exists(directory_path):\n",
    "        logger.info(f\"Directory '{directory_path}' already exists. Removing it.\")\n",
    "        os.rmdir(directory_path)\n",
    "\n",
    "    # ディレクトリの作成\n",
    "    os.makedirs(directory_path, exist_ok=True)\n",
    "    logger.info(f\"Directory '{directory_path}' created successfully.\")\n",
    "\n",
    "# 定数としてディレクトリ名を定義\n",
    "model_dir: Final[str] = 'model'\n",
    "source_dir: Final[str] = 'source'\n",
    "\n",
    "# 必要なディレクトリを作成\n",
    "# create_directory(model_dir)\n",
    "# create_directory(source_dir)"
   ]
  },
  {
   "cell_type": "markdown",
   "id": "7f8bce31-68eb-49dd-8e83-ac818229b68c",
   "metadata": {},
   "source": [
    "## サンプルデータの作成"
   ]
  },
  {
   "cell_type": "code",
   "execution_count": 5,
   "id": "924b357d-21b0-4875-9834-f6a198329882",
   "metadata": {},
   "outputs": [
    {
     "name": "stderr",
     "output_type": "stream",
     "text": [
      "INFO:__main__:Generating sample data...\n",
      "INFO:__main__:Sample data saved to data.csv\n"
     ]
    },
    {
     "name": "stdout",
     "output_type": "stream",
     "text": [
      "(1000, 11)\n"
     ]
    },
    {
     "data": {
      "text/html": [
       "<div>\n",
       "<style scoped>\n",
       "    .dataframe tbody tr th:only-of-type {\n",
       "        vertical-align: middle;\n",
       "    }\n",
       "\n",
       "    .dataframe tbody tr th {\n",
       "        vertical-align: top;\n",
       "    }\n",
       "\n",
       "    .dataframe thead th {\n",
       "        text-align: right;\n",
       "    }\n",
       "</style>\n",
       "<table border=\"1\" class=\"dataframe\">\n",
       "  <thead>\n",
       "    <tr style=\"text-align: right;\">\n",
       "      <th></th>\n",
       "      <th>feature_0</th>\n",
       "      <th>feature_1</th>\n",
       "      <th>feature_2</th>\n",
       "      <th>feature_3</th>\n",
       "      <th>feature_4</th>\n",
       "      <th>feature_5</th>\n",
       "      <th>feature_6</th>\n",
       "      <th>feature_7</th>\n",
       "      <th>feature_8</th>\n",
       "      <th>feature_9</th>\n",
       "      <th>label</th>\n",
       "    </tr>\n",
       "  </thead>\n",
       "  <tbody>\n",
       "    <tr>\n",
       "      <th>0</th>\n",
       "      <td>0.964799</td>\n",
       "      <td>-0.066449</td>\n",
       "      <td>0.986768</td>\n",
       "      <td>-0.358079</td>\n",
       "      <td>0.997266</td>\n",
       "      <td>1.181890</td>\n",
       "      <td>-1.615679</td>\n",
       "      <td>-1.210161</td>\n",
       "      <td>-0.628077</td>\n",
       "      <td>1.227274</td>\n",
       "      <td>0</td>\n",
       "    </tr>\n",
       "    <tr>\n",
       "      <th>1</th>\n",
       "      <td>-0.916511</td>\n",
       "      <td>-0.566395</td>\n",
       "      <td>-1.008614</td>\n",
       "      <td>0.831617</td>\n",
       "      <td>-1.176962</td>\n",
       "      <td>1.820544</td>\n",
       "      <td>1.752375</td>\n",
       "      <td>-0.984534</td>\n",
       "      <td>0.363896</td>\n",
       "      <td>0.209470</td>\n",
       "      <td>1</td>\n",
       "    </tr>\n",
       "    <tr>\n",
       "      <th>2</th>\n",
       "      <td>-0.109484</td>\n",
       "      <td>-0.432774</td>\n",
       "      <td>-0.457649</td>\n",
       "      <td>0.793818</td>\n",
       "      <td>-0.268646</td>\n",
       "      <td>-1.836360</td>\n",
       "      <td>1.239086</td>\n",
       "      <td>-0.246383</td>\n",
       "      <td>-1.058145</td>\n",
       "      <td>-0.297376</td>\n",
       "      <td>1</td>\n",
       "    </tr>\n",
       "  </tbody>\n",
       "</table>\n",
       "</div>"
      ],
      "text/plain": [
       "   feature_0  feature_1  feature_2  feature_3  feature_4  feature_5  \\\n",
       "0   0.964799  -0.066449   0.986768  -0.358079   0.997266   1.181890   \n",
       "1  -0.916511  -0.566395  -1.008614   0.831617  -1.176962   1.820544   \n",
       "2  -0.109484  -0.432774  -0.457649   0.793818  -0.268646  -1.836360   \n",
       "\n",
       "   feature_6  feature_7  feature_8  feature_9  label  \n",
       "0  -1.615679  -1.210161  -0.628077   1.227274      0  \n",
       "1   1.752375  -0.984534   0.363896   0.209470      1  \n",
       "2   1.239086  -0.246383  -1.058145  -0.297376      1  "
      ]
     },
     "execution_count": 5,
     "metadata": {},
     "output_type": "execute_result"
    }
   ],
   "source": [
    "def generate_sample_data(n_samples: int = 1000, n_features: int = 10, n_classes: int = 2, random_state: int = 42, output_file: str = 'data.csv'):\n",
    "    \"\"\"\n",
    "    サンプルデータを生成し、CSVファイルに保存する関数。\n",
    "\n",
    "    :param n_samples: 生成するサンプル数 (デフォルト: 1000)\n",
    "    :param n_features: 特徴量の数 (デフォルト: 20)\n",
    "    :param n_classes: クラス数 (デフォルト: 2)\n",
    "    :param random_state: 乱数シード (デフォルト: 42)\n",
    "    :param output_file: 保存するCSVファイル名 (デフォルト: 'data.csv')\n",
    "    \"\"\"\n",
    "    logger.info(\"Generating sample data...\")\n",
    "\n",
    "    # サンプルデータの生成\n",
    "    X, y = make_classification(n_samples=n_samples, n_features=n_features, n_classes=n_classes, random_state=random_state)\n",
    "    data = pd.DataFrame(X, columns=[f\"feature_{i}\" for i in range(n_features)])  # 特徴量に列名を付ける\n",
    "    data['label'] = y\n",
    "\n",
    "    # データの保存\n",
    "    data.to_csv(output_file, index=False)\n",
    "    logger.info(f\"Sample data saved to {output_file}\")\n",
    "\n",
    "    return data\n",
    "\n",
    "# サンプルデータの生成と保存\n",
    "data = generate_sample_data()\n",
    "print(data.shape)\n",
    "data.head(3)"
   ]
  },
  {
   "cell_type": "markdown",
   "id": "550dacf0-3fd6-4bc0-90d1-1fc10899d5d9",
   "metadata": {},
   "source": [
    "## データをS3にアップロード"
   ]
  },
  {
   "cell_type": "code",
   "execution_count": 6,
   "id": "62bbdf5e-8db6-40a3-8d19-4d81518f8c12",
   "metadata": {},
   "outputs": [
    {
     "name": "stderr",
     "output_type": "stream",
     "text": [
      "INFO:__main__:Uploading data.csv to S3 bucket 'sagemaker-ap-northeast-1-706711397653' with prefix 'lightgbm-model-deploy_csv_ver'.\n",
      "INFO:__main__:Data has been uploaded to s3://sagemaker-ap-northeast-1-706711397653/lightgbm-model-deploy_csv_ver/data/data.csv\n"
     ]
    }
   ],
   "source": [
    "def upload_to_s3(file_path: str, bucket_name: str, s3_prefix: str, session: Session) -> str:\n",
    "    \"\"\"\n",
    "    ローカルファイルをS3にアップロードする関数。\n",
    "\n",
    "    :param file_path: アップロードするローカルファイルのパス\n",
    "    :param bucket_name: アップロード先のS3バケット名\n",
    "    :param s3_prefix: S3上の保存先プレフィックス\n",
    "    :param session: SageMakerのセッション\n",
    "    :return: アップロードされたファイルのS3 URI\n",
    "    \"\"\"\n",
    "    logger.info(f\"Uploading {file_path} to S3 bucket '{bucket_name}' with prefix '{s3_prefix}'.\")\n",
    "    \n",
    "    # S3にデータをアップロード\n",
    "    s3_uri = session.upload_data(path=file_path,\n",
    "                                 bucket=bucket_name,\n",
    "                                 key_prefix=f'{s3_prefix}/data')\n",
    "    \n",
    "    logger.info(f\"Data has been uploaded to {s3_uri}\")\n",
    "    return s3_uri\n",
    "\n",
    "# データをS3にアップロード\n",
    "data_file = \"data.csv\"\n",
    "s3_uri = upload_to_s3(file_path=data_file,\n",
    "                      bucket_name=sagemaker_settings[\"bucket\"],\n",
    "                      s3_prefix=sagemaker_settings[\"s3_prefix\"],\n",
    "                      session=sagemaker_settings[\"session\"])"
   ]
  },
  {
   "cell_type": "code",
   "execution_count": null,
   "id": "80d82245-db30-4d5c-99e2-2e329a0b2c42",
   "metadata": {},
   "outputs": [],
   "source": []
  },
  {
   "cell_type": "markdown",
   "id": "8a77cd5c-a1f3-4a5a-b0ba-486f54d321a8",
   "metadata": {},
   "source": [
    "# モデルの訓練"
   ]
  },
  {
   "cell_type": "markdown",
   "id": "3236ab30-1d46-429c-848e-7d72689edc5f",
   "metadata": {},
   "source": [
    "## 訓練/テストデータの分割"
   ]
  },
  {
   "cell_type": "code",
   "execution_count": 7,
   "id": "be8d9c67-9201-4c1b-aa4e-90ebaea7c1ee",
   "metadata": {},
   "outputs": [
    {
     "name": "stderr",
     "output_type": "stream",
     "text": [
      "INFO:__main__:Splitting data into train and test sets with test_size=0.2 and random_state=42\n",
      "INFO:__main__:Data split completed: 800 training samples, 200 test samples\n"
     ]
    }
   ],
   "source": [
    "def split_train_test(data: pd.DataFrame, test_size: float = 0.2, random_state: int = 42) -> tuple:\n",
    "    \"\"\"\n",
    "    データを訓練データとテストデータに分割する関数。\n",
    "\n",
    "    :param data: 分割するデータフレーム\n",
    "    :param test_size: テストデータの割合 (デフォルト: 0.2)\n",
    "    :param random_state: ランダムシード (デフォルト: 42)\n",
    "    :return: 訓練データとテストデータのタプル (train, test)\n",
    "    \"\"\"\n",
    "    logger.info(f\"Splitting data into train and test sets with test_size={test_size} and random_state={random_state}\")\n",
    "    \n",
    "    # データの分割\n",
    "    train, test = train_test_split(data, test_size=test_size, random_state=random_state)\n",
    "    \n",
    "    logger.info(f\"Data split completed: {len(train)} training samples, {len(test)} test samples\")\n",
    "    \n",
    "    return train, test\n",
    "\n",
    "# 使用例\n",
    "data = pd.read_csv('data.csv')  # データを読み込む場合の例\n",
    "train, test = split_train_test(data)"
   ]
  },
  {
   "cell_type": "markdown",
   "id": "8de49a0e-d795-439a-838d-158acfa36970",
   "metadata": {},
   "source": [
    "## 訓練"
   ]
  },
  {
   "cell_type": "code",
   "execution_count": 8,
   "id": "4363974b-7bd7-42c6-9a3a-4c776cf52363",
   "metadata": {},
   "outputs": [
    {
     "name": "stderr",
     "output_type": "stream",
     "text": [
      "INFO:__main__:Preparing training data for LightGBM model.\n",
      "INFO:__main__:Training LightGBM model...\n",
      "INFO:__main__:LightGBM model training completed.\n"
     ]
    }
   ],
   "source": [
    "def train_lightgbm_model(train_data: pd.DataFrame, label_column: str = 'label', params: dict = None) -> lgb.Booster:\n",
    "    \"\"\"\n",
    "    LightGBMモデルを訓練する関数\n",
    "\n",
    "    :param train_data: 訓練データを含むDataFrame\n",
    "    :param label_column: 目的変数の列名 (デフォルト: 'label')\n",
    "    :param params: LightGBMのハイパーパラメータ (デフォルトはバイナリ分類用)\n",
    "    :return: 訓練済みLightGBMモデル (lgb.Boosterオブジェクト)\n",
    "    \"\"\"\n",
    "    logger.info('Preparing training data for LightGBM model.')\n",
    "\n",
    "    # 訓練データとラベルの分割\n",
    "    X_train = train_data.drop(label_column, axis=1)\n",
    "    y_train = train_data[label_column]\n",
    "\n",
    "    logger.info('Training LightGBM model...')\n",
    "    \n",
    "    # LightGBM用のデータセットを作成\n",
    "    train_dataset = lgb.Dataset(X_train, label=y_train)\n",
    "\n",
    "    # デフォルトのハイパーパラメータを設定（必要に応じて変更可能）\n",
    "    if params is None:\n",
    "        params = {\n",
    "            'objective': 'binary',  # バイナリ分類用\n",
    "            'metric': 'binary_logloss',  # 評価指標\n",
    "            'verbosity': -1  # 詳細出力の抑制\n",
    "        }\n",
    "    \n",
    "    # モデルの訓練\n",
    "    model = lgb.train(params, train_dataset)\n",
    "    \n",
    "    logger.info('LightGBM model training completed.')\n",
    "    \n",
    "    return model\n",
    "\n",
    "# 使用例\n",
    "# 訓練データを分割済みの場合\n",
    "trained_model = train_lightgbm_model(train)"
   ]
  },
  {
   "cell_type": "markdown",
   "id": "6aa65fa9-8494-4424-aec4-fb6350b87420",
   "metadata": {},
   "source": [
    "## モデルの保存&圧縮"
   ]
  },
  {
   "cell_type": "code",
   "execution_count": 9,
   "id": "05806170-5092-4f7b-bcec-07f3cb999512",
   "metadata": {},
   "outputs": [
    {
     "name": "stderr",
     "output_type": "stream",
     "text": [
      "INFO:__main__:Model saved to model/model.txt\n",
      "INFO:__main__:Model directory 'model' compressed to 'model/model.tar.gz'\n"
     ]
    }
   ],
   "source": [
    "def save_and_compress_model(model: lgb.Booster, model_dir: str = 'model', model_filename: str = 'model.txt', archive_filename: str = 'model.tar.gz'):\n",
    "    \"\"\"\n",
    "    モデルを保存し、ディレクトリ内のファイルを圧縮する関数\n",
    "\n",
    "    :param model: LightGBM Boosterオブジェクト\n",
    "    :param model_dir: モデルを保存するディレクトリ (デフォルト: 'model')\n",
    "    :param model_filename: 保存するモデルファイル名 (デフォルト: 'model.txt')\n",
    "    :param archive_filename: 圧縮するアーカイブファイル名 (デフォルト: 'model.tar.gz')\n",
    "    \"\"\"\n",
    "    # ディレクトリが存在しない場合は作成\n",
    "    if not os.path.exists(model_dir):\n",
    "        os.makedirs(model_dir)\n",
    "        logger.info(f\"Directory '{model_dir}' created.\")\n",
    "\n",
    "    # モデルの保存\n",
    "    model_path = os.path.join(model_dir, model_filename)\n",
    "    model.save_model(model_path)\n",
    "    logger.info(f\"Model saved to {model_path}\")\n",
    "\n",
    "    # モデルディレクトリを圧縮\n",
    "    archive_path = os.path.join(model_dir, archive_filename)\n",
    "    with tarfile.open(archive_path, 'w:gz') as tar:\n",
    "        tar.add(model_dir, arcname='.')\n",
    "    logger.info(f\"Model directory '{model_dir}' compressed to '{archive_path}'\")\n",
    "\n",
    "# 使用例\n",
    "# 事前に訓練したLightGBMモデルを保存・圧縮する場合\n",
    "save_and_compress_model(trained_model)"
   ]
  },
  {
   "cell_type": "markdown",
   "id": "4cf7902e-621e-4c67-83d4-3201bebecc80",
   "metadata": {},
   "source": [
    "## 圧縮モデルをS3にアップロード"
   ]
  },
  {
   "cell_type": "code",
   "execution_count": 10,
   "id": "86f8fd69-065e-4ec9-b8cb-92d6f0ecdb6b",
   "metadata": {},
   "outputs": [
    {
     "name": "stderr",
     "output_type": "stream",
     "text": [
      "INFO:__main__:Uploading model to S3: ./model/model.tar.gz -> s3://sagemaker-ap-northeast-1-706711397653/lightgbm-model-deploy_csv_ver\n",
      "INFO:__main__:Model uploaded to S3 at s3://sagemaker-ap-northeast-1-706711397653/lightgbm-model-deploy_csv_ver/model.tar.gz\n"
     ]
    },
    {
     "name": "stdout",
     "output_type": "stream",
     "text": [
      "s3://sagemaker-ap-northeast-1-706711397653/lightgbm-model-deploy_csv_ver/model.tar.gz\n"
     ]
    }
   ],
   "source": [
    "def upload_model_to_s3(model_path: str, s3_prefix: str, session: Session, bucket_name: str) -> str:\n",
    "    \"\"\"\n",
    "    圧縮したモデルファイルをS3にアップロードする関数\n",
    "\n",
    "    :param model_path: アップロードするモデルファイルのローカルパス\n",
    "    :param s3_prefix: S3上の保存先プレフィックス\n",
    "    :param session: SageMakerのセッション\n",
    "    :param bucket_name: アップロード先のS3バケット名\n",
    "    :return: アップロードされたモデルファイルのS3 URI\n",
    "    \"\"\"\n",
    "    logger.info(f\"Uploading model to S3: {model_path} -> s3://{bucket_name}/{s3_prefix}\")\n",
    "    \n",
    "    # モデルファイルをS3にアップロード\n",
    "    model_s3_uri: Final[str] = session.upload_data(\n",
    "        path=model_path,\n",
    "        bucket=bucket_name,\n",
    "        key_prefix=s3_prefix\n",
    "    )\n",
    "    \n",
    "    logger.info(f\"Model uploaded to S3 at {model_s3_uri}\")\n",
    "    return model_s3_uri\n",
    "\n",
    "# 使用例\n",
    "model_dir = 'model'  # モデルディレクトリ\n",
    "model_tar_path = f'./{model_dir}/model.tar.gz'\n",
    "\n",
    "# モデルをS3にアップロード\n",
    "model_s3_uri = upload_model_to_s3(model_path=model_tar_path, \n",
    "                                  s3_prefix=sagemaker_settings[\"s3_prefix\"], \n",
    "                                  session=sagemaker_settings[\"session\"], \n",
    "                                  bucket_name=sagemaker_settings[\"bucket\"])\n",
    "print(model_s3_uri)"
   ]
  },
  {
   "cell_type": "markdown",
   "id": "a8598024-dd04-40da-b9ea-6f65aece08cb",
   "metadata": {},
   "source": [
    "# モデルをデプロイ"
   ]
  },
  {
   "cell_type": "code",
   "execution_count": 11,
   "id": "dce54330-d4b4-46b9-9a62-d7234890f5f1",
   "metadata": {},
   "outputs": [
    {
     "name": "stderr",
     "output_type": "stream",
     "text": [
      "INFO:__main__:Retrieving container URI for framework=pytorch, version=2.1, region=ap-northeast-1\n",
      "INFO:__main__:Creating SageMaker model object...\n",
      "INFO:__main__:Deploying model to endpoint lightgbm-deploy-template-20241012-4 with instance type ml.m5.large...\n",
      "INFO:sagemaker:Repacking model artifact (s3://sagemaker-ap-northeast-1-706711397653/lightgbm-model-deploy_csv_ver/model.tar.gz), script artifact (source), and dependencies ([]) into single tar.gz file located at s3://sagemaker-ap-northeast-1-706711397653/pytorch-inference-2024-10-13-14-06-18-440/model.tar.gz. This may take some time depending on model size...\n",
      "INFO:sagemaker:Creating model with name: pytorch-inference-2024-10-13-14-06-18-849\n",
      "INFO:sagemaker:Creating endpoint-config with name lightgbm-deploy-template-20241012-4\n",
      "INFO:sagemaker:Creating endpoint with name lightgbm-deploy-template-20241012-4\n"
     ]
    },
    {
     "name": "stdout",
     "output_type": "stream",
     "text": [
      "-------!"
     ]
    },
    {
     "name": "stderr",
     "output_type": "stream",
     "text": [
      "INFO:__main__:Model deployed successfully at endpoint: lightgbm-deploy-template-20241012-4\n"
     ]
    }
   ],
   "source": [
    "def deploy_model_to_sagemaker(model_s3_uri: str, role: str, entry_point: str, source_dir: str, session: Session,\n",
    "                              framework: str = \"pytorch\", version: str = \"2.1\", py_version: str = \"py310\",\n",
    "                              instance_type: str = \"ml.m5.large\", initial_instance_count: int = 1,\n",
    "                              endpoint_name: str = \"lightgbm-endpoint\") -> Model:\n",
    "    \"\"\"\n",
    "    SageMakerにモデルをデプロイする関数\n",
    "\n",
    "    :param model_s3_uri: S3上のモデルアーティファクトのURI\n",
    "    :param role: SageMaker用のIAMロール\n",
    "    :param entry_point: 推論用スクリプトのパス\n",
    "    :param source_dir: entry_pointを含むディレクトリ\n",
    "    :param session: SageMakerのセッション\n",
    "    :param framework: 使用するフレームワーク (デフォルト: 'pytorch')\n",
    "    :param version: フレームワークのバージョン (デフォルト: '2.1')\n",
    "    :param py_version: Pythonバージョン (デフォルト: 'py310')\n",
    "    :param instance_type: デプロイ用のインスタンスタイプ (デフォルト: 'ml.m5.large')\n",
    "    :param initial_instance_count: デプロイ用のインスタンス数 (デフォルト: 1)\n",
    "    :param endpoint_name: デプロイするエンドポイントの名前 (デフォルト: 'lightgbm-endpoint')\n",
    "    :return: デプロイされたモデルのPredictorオブジェクト\n",
    "    \"\"\"\n",
    "    # コンテナURIの取得\n",
    "    logger.info(f\"Retrieving container URI for framework={framework}, version={version}, region={session.boto_region_name}\")\n",
    "    container_uri = retrieve(\n",
    "        framework=framework,\n",
    "        region=session.boto_region_name,\n",
    "        version=version,\n",
    "        py_version=py_version,\n",
    "        image_scope=\"inference\",\n",
    "        instance_type=instance_type,\n",
    "    )\n",
    "\n",
    "    # Modelオブジェクトの作成\n",
    "    logger.info(\"Creating SageMaker model object...\")\n",
    "    model = Model(\n",
    "        model_data=model_s3_uri,\n",
    "        role=role,\n",
    "        entry_point=entry_point,\n",
    "        source_dir=source_dir,\n",
    "        image_uri=container_uri,\n",
    "        sagemaker_session=session\n",
    "    )\n",
    "\n",
    "    # エンドポイントのデプロイ\n",
    "    logger.info(f\"Deploying model to endpoint {endpoint_name} with instance type {instance_type}...\")\n",
    "    predictor = model.deploy(\n",
    "        initial_instance_count=initial_instance_count,\n",
    "        instance_type=instance_type,\n",
    "        endpoint_name=endpoint_name\n",
    "    )\n",
    "\n",
    "    logger.info(f\"Model deployed successfully at endpoint: {endpoint_name}\")\n",
    "    return predictor\n",
    "\n",
    "# 使用例\n",
    "entry_point = 'inference.py'\n",
    "source_dir = 'source'  # 推論スクリプトと依存ファイルを含むディレクトリ\n",
    "endpoint_name = \"lightgbm-deploy-template-20241012-4\"\n",
    "predictor = deploy_model_to_sagemaker(model_s3_uri=model_s3_uri,\n",
    "                                      role = sagemaker_settings[\"role\"],\n",
    "                                      entry_point = entry_point,\n",
    "                                      source_dir = source_dir,\n",
    "                                      session = sagemaker_settings[\"session\"],\n",
    "                                      endpoint_name = endpoint_name)"
   ]
  },
  {
   "cell_type": "markdown",
   "id": "92d4dedf-9225-48c8-860e-d0bf83e8b9c9",
   "metadata": {},
   "source": [
    "# 推論テスト"
   ]
  },
  {
   "cell_type": "code",
   "execution_count": 22,
   "id": "9bf6a30b-e62a-4206-b0df-d506223dbc32",
   "metadata": {},
   "outputs": [
    {
     "name": "stderr",
     "output_type": "stream",
     "text": [
      "INFO:__main__:Creating Predictor object for endpoint 'lightgbm-deploy-template-20241012-4'\n",
      "INFO:__main__:Sending data to the endpoint for prediction\n",
      "INFO:__main__:Prediction completed\n"
     ]
    },
    {
     "name": "stdout",
     "output_type": "stream",
     "text": [
      "[9606.777047532225]\n"
     ]
    }
   ],
   "source": [
    "def test_endpoint_prediction(endpoint_name: str, input_data: dict, session, serializer=JSONSerializer(), deserializer=JSONDeserializer()) -> dict:\n",
    "    \"\"\"\n",
    "    デプロイされたエンドポイントに対して推論を実行する関数\n",
    "\n",
    "    :param endpoint_name: デプロイされたエンドポイントの名前\n",
    "    :param input_data: 推論に使用するデータ\n",
    "    :param session: SageMakerセッション\n",
    "    :param serializer: 入力データのシリアライザ (デフォルト: JSONSerializer)\n",
    "    :param deserializer: 出力データのデシリアライザ (デフォルト: JSONDeserializer)\n",
    "    :return: エンドポイントからの推論結果\n",
    "    \"\"\"\n",
    "    logger.info(f\"Creating Predictor object for endpoint '{endpoint_name}'\")\n",
    "\n",
    "    # Predictorオブジェクトの作成\n",
    "    predictor = Predictor(\n",
    "        endpoint_name=endpoint_name,\n",
    "        sagemaker_session=session,\n",
    "        serializer=serializer,\n",
    "        deserializer=deserializer\n",
    "    )\n",
    "\n",
    "    logger.info(\"Sending data to the endpoint for prediction\")\n",
    "    \n",
    "    # 推論の実行\n",
    "    response = predictor.predict(input_data)\n",
    "    \n",
    "    logger.info(\"Prediction completed\")\n",
    "    return response\n",
    "\n",
    "\n",
    "\n",
    "# 使用例\n",
    "# input_data = {\n",
    "#     \"data\": [\n",
    "#         [0.09337237, 0.78584826, 0.10575379, 1.2723535, -0.84631598,\n",
    "#          -0.97909326, 1.26370668, 0.26402008, 2.41167668, -0.9600463,]\n",
    "#     ]\n",
    "# }\n",
    "# input_data = {\n",
    "#     \"data\": [\n",
    "#         [0.09337237, 0.78584826, 0.10575379, 1.2723535, -0.84631598,\n",
    "#          -0.97909326, 1.26370668, 0.26402008, 2.41167668, -0.9600463,]],\n",
    "#     \"data_2\":[\n",
    "#         [0, 0.78584826, 0.10575379, 1.2723535, -0.84631598,\n",
    "#          -0.97909326, 1.26370668, 0.26402008, 2.41167668, 10,]\n",
    "#     ],   \n",
    "# }\n",
    "\n",
    "input_data ={ \n",
    "    \"data1\":[\n",
    "    { \"feature1\": 1,\n",
    "     \"feature2\": 0,\n",
    "     \"feature3\": 0,\n",
    "     \"feature4\": 0,\n",
    "     \"feature5\": 0,\n",
    "     \"feature6\": 0,\n",
    "     \"feature7\": 1,\n",
    "     \"feature8\": 1,\n",
    "     \"feature9\": 1,\n",
    "     \"feature10\": 1,}],\n",
    "    \"data2\":[\n",
    "    { \"feature1\": 10,\n",
    "     \"feature2\": 0,\n",
    "     \"feature3\": 0,\n",
    "     \"feature4\": 0,\n",
    "     \"feature5\": [1,10],\n",
    "     \"feature6\": 1,\n",
    "     \"feature7\": 1,\n",
    "     \"feature8\": 1,\n",
    "     \"feature9\": 1,\n",
    "     \"feature10\": 0.01,}],\n",
    "            }\n",
    "\n",
    "\n",
    "# エンドポイントでの推論実行\n",
    "session = sagemaker_settings[\"session\"]  # 事前に初期化したSageMaker設定を使用\n",
    "prediction_result = test_endpoint_prediction(endpoint_name = endpoint_name,\n",
    "                                             input_data = input_data,\n",
    "                                             session = session)\n",
    "\n",
    "# 結果の表示\n",
    "print(prediction_result['predictions'])"
   ]
  },
  {
   "cell_type": "code",
   "execution_count": null,
   "id": "68e3c648-21ca-4470-802e-89c0102f4669",
   "metadata": {},
   "outputs": [],
   "source": []
  },
  {
   "cell_type": "code",
   "execution_count": null,
   "id": "99deb65f-9ff1-4d0f-ae8e-d70f4863bc9f",
   "metadata": {},
   "outputs": [],
   "source": []
  },
  {
   "cell_type": "markdown",
   "id": "7590cf8f-04f0-4956-9672-f63ca4c8687a",
   "metadata": {},
   "source": [
    "# テスト"
   ]
  },
  {
   "cell_type": "markdown",
   "id": "c6bf7be5-6f1e-4de4-9319-46ebcc5444ad",
   "metadata": {},
   "source": [
    "## inference.py"
   ]
  },
  {
   "cell_type": "markdown",
   "id": "5d6b630f-6b62-4024-89da-ac0c99c77c90",
   "metadata": {},
   "source": [
    "### model_fn()"
   ]
  },
  {
   "cell_type": "code",
   "execution_count": 14,
   "id": "1d74ae26-ee2d-488e-8557-7cf24cf4c4a7",
   "metadata": {},
   "outputs": [
    {
     "name": "stderr",
     "output_type": "stream",
     "text": [
      "INFO:source.inference:モデルをロードしています。\n"
     ]
    },
    {
     "name": "stdout",
     "output_type": "stream",
     "text": [
      "モデルがロードされました: True\n"
     ]
    }
   ],
   "source": [
    "from source.inference import model_fn\n",
    "\n",
    "### モデルディレクトリのパス\n",
    "model_dir = './model'\n",
    "\n",
    "### モデルのロード\n",
    "model = model_fn(model_dir)\n",
    "\n",
    "### モデルが正しくロードされたか確認\n",
    "print(\"モデルがロードされました:\", model is not None)"
   ]
  },
  {
   "cell_type": "markdown",
   "id": "0ebdf1c4-4843-4f6d-bd72-d3fb988f36a6",
   "metadata": {},
   "source": [
    "### input_fn()"
   ]
  },
  {
   "cell_type": "code",
   "execution_count": 15,
   "id": "0298b807-24c6-409b-86a8-407c2d949c9e",
   "metadata": {},
   "outputs": [
    {
     "name": "stdout",
     "output_type": "stream",
     "text": [
      "   feature1  feature2  feature3  feature4  feature5  feature6  feature7  \\\n",
      "0      1.01         0         0         0         1         1         1   \n",
      "\n",
      "   feature8  feature9  feature10  \n",
      "0         1         1          1  \n"
     ]
    }
   ],
   "source": [
    "# モジュールの再読み込み\n",
    "import source.inference\n",
    "importlib.reload(source.inference)\n",
    "from source.inference import input_fn\n",
    "\n",
    "### テスト用のリクエストボディ（JSON形式）\n",
    "test_request_body = json.dumps({\n",
    "    \"data\": [\n",
    "        [0.09337237, 0.78584826, 0.10575379, 1.2723535, -0.84631598,\n",
    "         -0.97909326, 1.26370668, 0.26402008, 2.41167668, -0.9600463,]\n",
    "    ],\n",
    "    \"data_2\":[\n",
    "        [0, 0.78584826, 0.10575379, 1.2723535, -0.84631598,\n",
    "         -0.97909326, 1.26370668, 0.26402008, 2.41167668, 10,]\n",
    "    ],\n",
    "    \n",
    "})\n",
    "test_request_body  =json.dumps({ \n",
    "    \"data1\":[\n",
    "    { \"feature1\": 1,\n",
    "     \"feature2\": 0,\n",
    "     \"feature3\": 0,\n",
    "     \"feature4\": 0,\n",
    "     \"feature5\": 1,\n",
    "     \"feature6\": 1,\n",
    "     \"feature7\": 1,\n",
    "     \"feature8\": 1,\n",
    "     \"feature9\": 1,\n",
    "     \"feature10\": 1,}],\n",
    "    \"data2\":[\n",
    "    { \"feature1\": 10,\n",
    "     \"feature2\": 0,\n",
    "     \"feature3\": 0,\n",
    "     \"feature4\": 0,\n",
    "     \"feature5\": 1,\n",
    "     \"feature6\": 1,\n",
    "     \"feature7\": 1,\n",
    "     \"feature8\": 1,\n",
    "     \"feature9\": 1,\n",
    "     \"feature10\": 0.01,}],\n",
    "            })\n",
    "\n",
    "request_content_type = 'application/json'\n",
    "\n",
    "### 入力データの処理\n",
    "input_data = input_fn(test_request_body, request_content_type)\n",
    "\n",
    "### 処理結果の確認\n",
    "# print(\"入力データ:\", input_data)"
   ]
  },
  {
   "cell_type": "markdown",
   "id": "c518fe7b-96f3-4883-9646-cc40bf789195",
   "metadata": {},
   "source": [
    "### predecit_fn()"
   ]
  },
  {
   "cell_type": "code",
   "execution_count": 16,
   "id": "2c3d0b08-8eb5-4eba-8c68-6dd30c3f82d2",
   "metadata": {},
   "outputs": [
    {
     "name": "stdout",
     "output_type": "stream",
     "text": [
      "予測結果: [0.9353699]\n"
     ]
    }
   ],
   "source": [
    "import source.inference\n",
    "# モジュールの再読み込み\n",
    "importlib.reload(source.inference)\n",
    "\n",
    "from source.inference import predict_fn\n",
    "\n",
    "# モデルと入力データを使用して予測\n",
    "prediction = predict_fn(input_data, model)\n",
    "\n",
    "# 予測結果の確認\n",
    "print(\"予測結果:\", prediction)"
   ]
  },
  {
   "cell_type": "markdown",
   "id": "41784082-e1aa-484d-8d40-13bae9e7134d",
   "metadata": {},
   "source": [
    "### output_fn()"
   ]
  },
  {
   "cell_type": "code",
   "execution_count": 17,
   "id": "a92006a6-58ab-4f43-b74f-1b842293a079",
   "metadata": {},
   "outputs": [
    {
     "name": "stdout",
     "output_type": "stream",
     "text": [
      "{\"predictions\": [9353.698971526755]}\n"
     ]
    }
   ],
   "source": [
    "import source.inference\n",
    "# モジュールの再読み込み\n",
    "importlib.reload(source.inference)\n",
    "from source.inference import output_fn\n",
    "\n",
    "response_content_type = 'application/json'\n",
    "\n",
    "### 出力データの生成\n",
    "response = output_fn(prediction, response_content_type)\n",
    "\n",
    "### 応答の確認\n",
    "print(response)"
   ]
  },
  {
   "cell_type": "code",
   "execution_count": 18,
   "id": "cea0902a-ae1f-43d7-b0a5-5e1d36d97c85",
   "metadata": {},
   "outputs": [
    {
     "data": {
      "text/plain": [
       "array([0.9353699])"
      ]
     },
     "execution_count": 18,
     "metadata": {},
     "output_type": "execute_result"
    }
   ],
   "source": [
    "prediction"
   ]
  },
  {
   "cell_type": "code",
   "execution_count": null,
   "id": "b2a3e815-f2b0-4059-ae8e-960b91b8a1de",
   "metadata": {},
   "outputs": [],
   "source": []
  }
 ],
 "metadata": {
  "kernelspec": {
   "display_name": "Python 3 (ipykernel)",
   "language": "python",
   "name": "python3"
  },
  "language_info": {
   "codemirror_mode": {
    "name": "ipython",
    "version": 3
   },
   "file_extension": ".py",
   "mimetype": "text/x-python",
   "name": "python",
   "nbconvert_exporter": "python",
   "pygments_lexer": "ipython3",
   "version": "3.10.14"
  }
 },
 "nbformat": 4,
 "nbformat_minor": 5
}
